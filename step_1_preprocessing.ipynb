{
 "cells": [
  {
   "cell_type": "code",
   "execution_count": 1,
   "id": "f55ba5e8",
   "metadata": {
    "tags": []
   },
   "outputs": [],
   "source": [
    "import pandas as pd\n",
    "import os\n",
    "from fcmvpa.utils import Utils"
   ]
  },
  {
   "cell_type": "code",
   "execution_count": 2,
   "id": "4dbf5d83",
   "metadata": {
    "tags": []
   },
   "outputs": [],
   "source": [
    "fmri_data_root = '../data/'"
   ]
  },
  {
   "cell_type": "code",
   "execution_count": 3,
   "id": "d05b9059",
   "metadata": {
    "tags": []
   },
   "outputs": [],
   "source": [
    "aal3_roi_fname = 'AAL3_ROI_name.xlsx'\n",
    "proj = 'sliced_time_series_30_30'\n",
    "try:\n",
    "    os.makedirs(proj)\n",
    "except FileExistsError:\n",
    "    pass"
   ]
  },
  {
   "cell_type": "code",
   "execution_count": 4,
   "id": "bc7b6f93",
   "metadata": {
    "tags": []
   },
   "outputs": [],
   "source": [
    "data = pd.read_excel(os.path.join(fmri_data_root, aal3_roi_fname))"
   ]
  },
  {
   "cell_type": "code",
   "execution_count": null,
   "id": "d75a8f1c",
   "metadata": {
    "tags": []
   },
   "outputs": [],
   "source": [
    "Utils.process_folder_to_csv(f'../data/{proj}/TD/', os.path.join(proj, 'TD_zpos.csv'))\n",
    "Utils.process_folder_to_csv(f'../data/{proj}/ADHD/', os.path.join(proj, 'ADHD_zpos.csv'))\n",
    "Utils.process_folder_to_csv(f'../data/{proj}/ASD/', os.path.join(proj, 'ASD_zpos.csv'))"
   ]
  },
  {
   "cell_type": "code",
   "execution_count": 7,
   "id": "3d035796",
   "metadata": {
    "tags": []
   },
   "outputs": [],
   "source": [
    "final_df = Utils.merge_and_label_csv_files(os.path.join(proj, 'TD_zpos.csv'), os.path.join(proj, 'ADHD_zpos.csv'), os.path.join(proj, 'ASD_zpos.csv'))"
   ]
  },
  {
   "cell_type": "code",
   "execution_count": 8,
   "id": "5d0bd3b9",
   "metadata": {
    "tags": []
   },
   "outputs": [],
   "source": [
    "final_df.to_csv(os.path.join(proj, 'total_data_zpos.csv'), index=False)"
   ]
  },
  {
   "cell_type": "code",
   "execution_count": 18,
   "id": "15acd463",
   "metadata": {},
   "outputs": [
    {
     "name": "stderr",
     "output_type": "stream",
     "text": [
      "Pattern found: ROIval_AAL3NIHPD_NADS76_: 100% 256/256 [00:09<00:00, 26.39it/s]    \n",
      "Pattern found: ROIval_AAL3NIHPD_C92_: 100% 84/84 [00:01<00:00, 65.70it/s]   "
     ]
    },
    {
     "name": "stdout",
     "output_type": "stream",
     "text": [
      "1533 504\n"
     ]
    },
    {
     "name": "stderr",
     "output_type": "stream",
     "text": [
      "\n"
     ]
    }
   ],
   "source": [
    "adhd = final_df[(final_df['label'] == 0) | (final_df['label'] == 1)]\n",
    "asd = final_df[(final_df['label'] == 0) | (final_df['label'] == 2)]\n",
    "adhd_config = pd.read_excel('../data/matched_adhd.xlsx')\n",
    "asd_config = pd.read_excel('../data/matched_asd.xlsx')\n",
    "filtered_adhd = Utils.filter_rows_based_on_config(adhd, adhd_config)\n",
    "filtered_asd = Utils.filter_rows_based_on_config(asd, asd_config)\n",
    "print(len(filtered_adhd), len(filtered_asd))"
   ]
  },
  {
   "cell_type": "code",
   "execution_count": 19,
   "id": "09102b97",
   "metadata": {},
   "outputs": [],
   "source": [
    "filtered_adhd.to_csv(os.path.join(proj, 'adhd_raw_matched.csv'))\n",
    "filtered_asd.to_csv(os.path.join(proj, 'asd_raw_matched.csv'))"
   ]
  },
  {
   "cell_type": "code",
   "execution_count": 20,
   "id": "b3bde4e9",
   "metadata": {},
   "outputs": [
    {
     "name": "stdout",
     "output_type": "stream",
     "text": [
      "1221 312 396 108\n"
     ]
    }
   ],
   "source": [
    "adhd_train, adhd_test = Utils.split_dataframe_two_classes(filtered_adhd, 'label', 0, 1, test_size = 0.2)\n",
    "asd_train, asd_test = Utils.split_dataframe_two_classes(filtered_asd, 'label', 0, 2, test_size = 0.2)\n",
    "adhd_train.to_csv(os.path.join(proj, 'adhd_total_data_zpos_train0.8.csv'), index=False)\n",
    "adhd_test.to_csv(os.path.join(proj, 'adhd_total_data_zpos_test0.2.csv'), index=False)\n",
    "asd_train.to_csv(os.path.join(proj, 'asd_total_data_zpos_train0.8.csv'), index=False)\n",
    "asd_test.to_csv(os.path.join(proj, 'asd_total_data_zpos_test0.2.csv'), index=False)\n",
    "print(len(adhd_train), len(adhd_test), len(asd_train), len(asd_test))"
   ]
  },
  {
   "cell_type": "code",
   "execution_count": 12,
   "id": "e426f208",
   "metadata": {},
   "outputs": [],
   "source": [
    "adhd_train.to_csv(os.path.join(proj, 'adhd_total_data_zpos_train0.8.csv'), index=False)\n",
    "adhd_test.to_csv(os.path.join(proj, 'adhd_total_data_zpos_test0.2.csv'), index=False)"
   ]
  },
  {
   "cell_type": "code",
   "execution_count": null,
   "id": "dfc2ac2a",
   "metadata": {},
   "outputs": [],
   "source": []
  }
 ],
 "metadata": {
  "kernelspec": {
   "display_name": "PyTorch 2.2 (NGC 23.11/Python 3.10) on Backend.AI",
   "language": "python",
   "name": "python3"
  },
  "language_info": {
   "codemirror_mode": {
    "name": "ipython",
    "version": 3
   },
   "file_extension": ".py",
   "mimetype": "text/x-python",
   "name": "python",
   "nbconvert_exporter": "python",
   "pygments_lexer": "ipython3",
   "version": "3.10.12"
  }
 },
 "nbformat": 4,
 "nbformat_minor": 5
}
